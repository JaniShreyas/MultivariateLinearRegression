{
 "cells": [
  {
   "cell_type": "code",
   "execution_count": 25,
   "metadata": {},
   "outputs": [],
   "source": [
    "import numpy as np\n",
    "import matplotlib.pyplot as plt\n",
    "from sklearn.model_selection import train_test_split\n",
    "from sklearn.datasets import load_iris"
   ]
  },
  {
   "cell_type": "code",
   "execution_count": 100,
   "metadata": {},
   "outputs": [
    {
     "name": "stdout",
     "output_type": "stream",
     "text": [
      "Root Mean Squared Error:  5.168595250552843\n",
      "Relative Squared Error:  1.6924577003796224\n"
     ]
    }
   ],
   "source": [
    "def MultivariateLinearRegression(data, y):\n",
    "    X = np.zeros((len(data), len(data[0])+1))\n",
    "    X[:,0] = 1\n",
    "    X[:,1:] = data\n",
    "    y = y.reshape(len(y), 1)\n",
    "    w = np.matmul(np.linalg.inv(np.matmul(X.T, X)), np.matmul(X.T, y))\n",
    "    return w\n",
    "\n",
    "#Synthetic 2d data\n",
    "data = np.random.rand(100, 4)\n",
    "\n",
    "def yFunction(X):\n",
    "    y = 10 + 5*data[:,0] + 8*data[:,1] + 7.2*data[:, 2] + 3.1415*data[:, 3] + np.random.randn(100)\n",
    "    return y\n",
    "\n",
    "y = yFunction(data)\n",
    "\n",
    "w = MultivariateLinearRegression(data, y)\n",
    "\n",
    "testData = np.random.rand(100, 4)\n",
    "yTest = yFunction(testData).reshape(-1, 1)\n",
    "\n",
    "XTest = np.zeros((len(testData), len(testData[0])+1))\n",
    "XTest[:,0] = 1\n",
    "XTest[:,1:] = testData\n",
    "\n",
    "yPred = np.matmul(XTest, w)\n",
    "\n",
    "rootMeanSquaredError = np.sqrt(np.mean((yPred - yTest)**2))\n",
    "print(\"Root Mean Squared Error: \", rootMeanSquaredError)\n",
    "\n",
    "def evaluateRSE(y_pred, y_true):\n",
    "    #Relative squared error\n",
    "    RSE = np.sum((y_pred - y_true)**2) / np.sum((y_true - np.mean(y_true))**2)\n",
    "    return RSE\n",
    "\n",
    "RSE = evaluateRSE(yPred, yTest)\n",
    "print(\"Relative Squared Error: \", RSE)"
   ]
  },
  {
   "cell_type": "code",
   "execution_count": 101,
   "metadata": {},
   "outputs": [
    {
     "name": "stdout",
     "output_type": "stream",
     "text": [
      "Testing\n"
     ]
    }
   ],
   "source": [
    "print(\"Testing\")"
   ]
  }
 ],
 "metadata": {
  "kernelspec": {
   "display_name": "base",
   "language": "python",
   "name": "python3"
  },
  "language_info": {
   "codemirror_mode": {
    "name": "ipython",
    "version": 3
   },
   "file_extension": ".py",
   "mimetype": "text/x-python",
   "name": "python",
   "nbconvert_exporter": "python",
   "pygments_lexer": "ipython3",
   "version": "3.10.9"
  },
  "orig_nbformat": 4
 },
 "nbformat": 4,
 "nbformat_minor": 2
}
