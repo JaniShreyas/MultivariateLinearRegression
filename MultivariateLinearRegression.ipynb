{
 "cells": [
  {
   "cell_type": "code",
   "execution_count": 89,
   "metadata": {},
   "outputs": [],
   "source": [
    "import numpy as np\n",
    "import matplotlib.pyplot as plt\n",
    "from sklearn.linear_model import LinearRegression\n",
    "from sklearn.model_selection import train_test_split\n",
    "from sklearn.datasets import load_iris\n",
    "from sklearn.preprocessing import StandardScaler"
   ]
  },
  {
   "cell_type": "code",
   "execution_count": 90,
   "metadata": {},
   "outputs": [],
   "source": [
    "def MLEmean(X, y):\n",
    "    #y will be 0 or 1\n",
    "\n",
    "    mu = np.zeros(shape = (len(X[0])))\n",
    "    for i in range(len(X)):\n",
    "        if y[i] == 1:\n",
    "            mu += X[i]\n",
    "\n",
    "    return mu/sum(y)\n",
    "\n",
    "def MLEcov(X, y):\n",
    "    mu = MLEmean(X, y)\n",
    "    covMat = np.zeros(shape = (len(X[0]), len(X[0])))\n",
    "    for i in range(len(X)):\n",
    "        covMat += np.outer(X[i] - mu, X[i] - mu) * y[i]\n",
    "    \n",
    "    return covMat/sum(y)"
   ]
  },
  {
   "cell_type": "code",
   "execution_count": 91,
   "metadata": {},
   "outputs": [
    {
     "name": "stdout",
     "output_type": "stream",
     "text": [
      "Root Mean Squared Error:  1.1873213158581997\n",
      "Relative Squared Error:  0.07197879311392319\n"
     ]
    }
   ],
   "source": [
    "def MultivariateLinearRegression(data, y):\n",
    "    X = np.zeros((len(data), len(data[0])+1))\n",
    "    X[:,0] = 1\n",
    "    X[:,1:] = data\n",
    "    y = y.reshape(len(y), 1)\n",
    "    w = np.matmul(np.linalg.inv(np.matmul(X.T, X)), np.matmul(X.T, y))\n",
    "    return w\n",
    "\n",
    "#Synthetic 2d data\n",
    "data = np.random.rand(100, 4)\n",
    "\n",
    "def yFunction(X):\n",
    "    y = 10 + 5*data[:,0] + 8*data[:,1] + 7.2*data[:, 2] + 3.1415*data[:, 3] + np.random.randn(100)\n",
    "    return y\n",
    "\n",
    "y = yFunction(data)\n",
    "\n",
    "# mean = MLEmean(data, [1 for i in range(len(data))])\n",
    "# covMat = MLEcov(data, [1 for i in range(len(data))])\n",
    "\n",
    "XTrain, XTest, yTrain, yTest = train_test_split(data, y)\n",
    "\n",
    "w = MultivariateLinearRegression(XTrain, yTrain)\n",
    "\n",
    "# testData = np.random.rand(100, 4)\n",
    "# yTest = yFunction(testData).reshape(-1, 1)\n",
    "\n",
    "\n",
    "XVerify = np.zeros((len(XTest), len(XTest[0])+1))\n",
    "XVerify[:,0] = 1\n",
    "XVerify[:,1:] = XTest\n",
    "\n",
    "yPred = np.matmul(XVerify, w)\n",
    "\n",
    "yTest = yTest.reshape(len(yTest), 1)\n",
    "\n",
    "rootMeanSquaredError = np.sqrt(np.mean((yPred - yTest)**2))\n",
    "print(\"Root Mean Squared Error: \", rootMeanSquaredError)\n",
    "\n",
    "def evaluateRSE(y_pred, y_true):\n",
    "    #Relative squared error\n",
    "    RSE = np.sum((y_pred - y_true)**2) / np.sum((y_true - np.mean(y_true))**2)\n",
    "    return RSE\n",
    "\n",
    "RSE = evaluateRSE(yPred, yTest)\n",
    "print(\"Relative Squared Error: \", RSE)"
   ]
  },
  {
   "cell_type": "markdown",
   "metadata": {},
   "source": [
    "Testing against Scikit-Learn"
   ]
  },
  {
   "cell_type": "code",
   "execution_count": 106,
   "metadata": {},
   "outputs": [
    {
     "name": "stdout",
     "output_type": "stream",
     "text": [
      "Scikit Learn\n",
      "\n",
      "Against different dataset\n",
      "Relative Squared Error Sklearn:  0.07197879311392297\n",
      "Root Mean Squared Error:  1.187321315858198\n",
      "\n",
      "Against same data as in training\n",
      "Relative Squared Error Sklearn:  0.07094259917761225\n",
      "Root Mean Squared Error:  1.0668106887164566\n",
      "\n",
      "My Implementation\n",
      "\n",
      "Against different dataset\n",
      "Relative Squared Error:  0.07197879311392319\n",
      "Root Mean Squared Error:  1.1873213158581997\n",
      "\n",
      "Against same data as in training\n",
      "Relative Squared Error:  0.0709425991776123\n",
      "Root Mean Squared Error:  1.0668106887164568\n"
     ]
    }
   ],
   "source": [
    "print(\"Scikit Learn\")\n",
    "print(\"\\nAgainst different dataset\")\n",
    "#Test against sklearn\n",
    "reg = LinearRegression().fit(XTrain, yTrain)\n",
    "yPredSklearn = reg.predict(XTest).reshape(-1, 1)\n",
    "RSESklearn = evaluateRSE(yPredSklearn, yTest)\n",
    "print(\"Relative Squared Error Sklearn: \", RSESklearn)\n",
    "#also the rms error\n",
    "rootMeanSquaredError = np.sqrt(np.mean((yPredSklearn - yTest)**2))\n",
    "print(\"Root Mean Squared Error: \", rootMeanSquaredError)\n",
    "\n",
    "\n",
    "print(\"\\nAgainst same data as in training\")\n",
    "y = y.reshape(-1, 1)\n",
    "reg = LinearRegression().fit(data, y)\n",
    "yPredSklearn = reg.predict(data)\n",
    "RSESklearn = evaluateRSE(yPredSklearn, y)\n",
    "print(\"Relative Squared Error Sklearn: \", RSESklearn)\n",
    "#also the rms error\n",
    "rootMeanSquaredError = np.sqrt(np.mean((yPredSklearn - y)**2))\n",
    "print(\"Root Mean Squared Error: \", rootMeanSquaredError)\n",
    "\n",
    "\n",
    "print(\"\\nMy Implementation\")\n",
    "\n",
    "print(\"\\nAgainst different dataset\")\n",
    "#Now the original Test train split data\n",
    "w = MultivariateLinearRegression(XTrain, yTrain)\n",
    "XVerify = np.zeros((len(XTest), len(XTest[0])+1))\n",
    "XVerify[:,0] = 1\n",
    "XVerify[:,1:] = XTest\n",
    "yPred = np.matmul(XVerify, w)\n",
    "\n",
    "RSE = evaluateRSE(yPred, yTest)\n",
    "print(\"Relative Squared Error: \", RSE)\n",
    "#also the rms error\n",
    "rootMeanSquaredError = np.sqrt(np.mean((yPred - yTest)**2))\n",
    "print(\"Root Mean Squared Error: \", rootMeanSquaredError)\n",
    "\n",
    "#Now my model in the same way\n",
    "print(\"\\nAgainst same data as in training\")\n",
    "w = MultivariateLinearRegression(data, y)\n",
    "XVerify = np.zeros((len(data), len(data[0])+1))\n",
    "XVerify[:,0] = 1\n",
    "XVerify[:,1:] = data\n",
    "yPred = np.matmul(XVerify, w)\n",
    "RSE = evaluateRSE(yPred, y)\n",
    "print(\"Relative Squared Error: \", RSE)\n",
    "#also the rms error\n",
    "rootMeanSquaredError = np.sqrt(np.mean((yPred - y)**2))\n",
    "print(\"Root Mean Squared Error: \", rootMeanSquaredError)\n",
    "\n"
   ]
  },
  {
   "cell_type": "code",
   "execution_count": 93,
   "metadata": {},
   "outputs": [
    {
     "name": "stdout",
     "output_type": "stream",
     "text": [
      "Testing\n"
     ]
    }
   ],
   "source": [
    "print(\"Testing\")"
   ]
  }
 ],
 "metadata": {
  "kernelspec": {
   "display_name": "base",
   "language": "python",
   "name": "python3"
  },
  "language_info": {
   "codemirror_mode": {
    "name": "ipython",
    "version": 3
   },
   "file_extension": ".py",
   "mimetype": "text/x-python",
   "name": "python",
   "nbconvert_exporter": "python",
   "pygments_lexer": "ipython3",
   "version": "3.10.9"
  },
  "orig_nbformat": 4
 },
 "nbformat": 4,
 "nbformat_minor": 2
}
